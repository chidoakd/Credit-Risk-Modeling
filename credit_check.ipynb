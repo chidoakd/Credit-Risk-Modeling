{
 "cells": [
  {
   "cell_type": "code",
   "execution_count": null,
   "id": "0f31653e",
   "metadata": {},
   "outputs": [],
   "source": [
    "import pandas as pd\n",
    "import numpy as np\n",
    "import matplotlib.pyplot as plt\n",
    "import seaborn as sns\n",
    " "
   ]
  },
  {
   "cell_type": "markdown",
   "id": "37dc213e",
   "metadata": {},
   "source": [
    "## Credit Analysis\n",
    "Process : Analysis -> featue engineering -> Model -> Credit Check App "
   ]
  }
 ],
 "metadata": {
  "kernelspec": {
   "display_name": "base",
   "language": "python",
   "name": "python3"
  },
  "language_info": {
   "codemirror_mode": {
    "name": "ipython",
    "version": 3
   },
   "file_extension": ".py",
   "mimetype": "text/x-python",
   "name": "python",
   "nbconvert_exporter": "python",
   "pygments_lexer": "ipython3",
   "version": "3.12.4"
  }
 },
 "nbformat": 4,
 "nbformat_minor": 5
}
